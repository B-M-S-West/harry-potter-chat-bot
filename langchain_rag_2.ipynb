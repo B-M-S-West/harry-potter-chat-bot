{
 "cells": [
  {
   "cell_type": "code",
   "execution_count": 1,
   "id": "6e8602cb-076d-42a9-8fd4-cc1204b3144a",
   "metadata": {},
   "outputs": [],
   "source": [
    "!pip install --q langchain langchain-community\n",
    "# Chromadb is a vector database, alternatives could be used\n",
    "!pip install --q chromadb\n",
    "!pip install --q langchain-text-splitters\n",
    "!pip install --q pypdf"
   ]
  },
  {
   "cell_type": "code",
   "execution_count": 20,
   "id": "b3ddc873-4a33-4c56-a1b1-5ec2e013ed08",
   "metadata": {},
   "outputs": [],
   "source": [
    "from langchain.document_loaders.pdf import PyPDFDirectoryLoader\n",
    "from langchain_community.document_loaders import PyPDFLoader\n",
    "from langchain_community.embeddings import OllamaEmbeddings\n",
    "from langchain.vectorstores.chroma import Chroma"
   ]
  },
  {
   "cell_type": "markdown",
   "id": "310e7038-2ad2-467c-9de3-581a919008b9",
   "metadata": {},
   "source": [
    "# PDF Ingest"
   ]
  },
  {
   "cell_type": "code",
   "execution_count": 5,
   "id": "9a91c575-d5c1-4e89-9bc8-d8a9aa8c94c7",
   "metadata": {},
   "outputs": [],
   "source": [
    "# Single file\n",
    "file_path = \"books/J.K. Rowling - HP 1 - Harry Potter and the Sorcerer's Stone.pdf\"\n",
    "\n",
    "loader = PyPDFLoader(file_path)\n",
    "data = loader.load()"
   ]
  },
  {
   "cell_type": "code",
   "execution_count": null,
   "id": "3a1e26c1-965d-46d7-b40b-8eac36004250",
   "metadata": {},
   "outputs": [],
   "source": [
    "# Directory\n",
    "directory = \"books/\"\n",
    "loader = PyPDFDirectoryLoader(directory)"
   ]
  },
  {
   "cell_type": "code",
   "execution_count": 16,
   "id": "10ddc423-6fd5-432e-8d78-f05bf65eebfe",
   "metadata": {},
   "outputs": [
    {
     "name": "stdout",
     "output_type": "stream",
     "text": [
      "page_content='THE  BOY  WHO  LIVED \\n\\x91 9 \\x91 Albus Dumbledore didn’t seem to realize that he had just arrived \\nin a street where everything from his name to his boots was unwel-\\ncome. He was busy rummaging in his cloak, looking for some-thing. But he did seem to realize he was being watched, because he \\nlooked up suddenly at the cat, wh ich was still staring at him from \\nthe other end of the street. For so me reason, the sight of the cat \\nseemed to amuse him. He chuckled  and muttered, “I should have \\nknown.” \\nHe found what he was looking for in his inside pocket. It \\nseemed to be a silver cigarette lighte r. He flicked it open, held it up \\nin the air, and clicked it. The near est street lamp went out with a \\nlittle pop. He clicked it again — the next lamp flickered into dark-\\nness. Twelve times he clicked the Put-Outer, until the only lights \\nleft on the whole street were two tiny pinpricks in the distance, \\nwhich were the eyes of the cat wa tching him. If anyone looked out \\nof their window now, even beady-eyed Mrs. Dursley, they wouldn’t \\nbe able to see anything that was happening down on the pavement. \\nDumbledore slipped the Put-Outer back inside his cloak and set \\noff down the street toward number  four, where he sat down on the \\nwall next to the cat. He didn’t look at it, but after a moment he \\nspoke to it. \\n“Fancy seeing you here, Professor McGonagall.” \\nHe turned to smile at the tabby,  but it had gone. Instead he was \\nsmiling at a rather severe-lookin g woman who was wearing square \\nglasses exactly the shape of the ma rkings the cat had had around its \\neyes. She, too, was wearing a cloak,  an emerald one. Her black hair \\nwas drawn into a tight bun. Sh e looked distinctly ruffled. \\n“How did you know it was me?” she asked. \\n“My dear Professor, I’ve neve r seen a cat sit so stiffly.” ' metadata={'source': \"books/J.K. Rowling - HP 1 - Harry Potter and the Sorcerer's Stone.pdf\", 'page': 20}\n"
     ]
    }
   ],
   "source": [
    "print(data[20])"
   ]
  },
  {
   "cell_type": "code",
   "execution_count": 17,
   "id": "4ddd62ca-e1c3-4506-8d6c-9440e3cea38f",
   "metadata": {},
   "outputs": [],
   "source": [
    "# Split and chunk\n",
    "text_splitter = RecursiveCharacterTextSplitter(chunk_size=5000, chunk_overlap=200)\n",
    "chunks = text_splitter.split_documents(data)"
   ]
  },
  {
   "cell_type": "code",
   "execution_count": 19,
   "id": "9c63f580-8192-4dd1-8df0-2710061fba19",
   "metadata": {},
   "outputs": [],
   "source": [
    "embeddings = OllamaEmbeddings(model=\"mxbai-embed-large\", show_progress=True)"
   ]
  },
  {
   "cell_type": "code",
   "execution_count": null,
   "id": "2925e2c9-205a-4875-94f5-8a1b0fb955be",
   "metadata": {},
   "outputs": [],
   "source": [
    "# Add to vector database\n",
    "vector_db = Chroma.from_documents(\n",
    "    persist_directory=\"chroma_db\"\n",
    "    documents=chunks,\n",
    "    embedding=embeddings,\n",
    "    collection_name=\"harry-potter-rag\"\n",
    ")"
   ]
  }
 ],
 "metadata": {
  "kernelspec": {
   "display_name": "Python 3 (ipykernel)",
   "language": "python",
   "name": "python3"
  },
  "language_info": {
   "codemirror_mode": {
    "name": "ipython",
    "version": 3
   },
   "file_extension": ".py",
   "mimetype": "text/x-python",
   "name": "python",
   "nbconvert_exporter": "python",
   "pygments_lexer": "ipython3",
   "version": "3.11.7"
  }
 },
 "nbformat": 4,
 "nbformat_minor": 5
}
