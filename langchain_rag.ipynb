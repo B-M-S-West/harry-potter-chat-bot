{
 "cells": [
  {
   "cell_type": "markdown",
   "id": "0152a77b-dfbe-4a0c-b0d7-30d5c2a06aa1",
   "metadata": {},
   "source": [
    "# Ingesting PDF"
   ]
  },
  {
   "cell_type": "code",
   "execution_count": 49,
   "id": "7a22f2a5-7fd4-4873-add6-9c0a2390c28e",
   "metadata": {},
   "outputs": [
    {
     "name": "stdout",
     "output_type": "stream",
     "text": [
      "Python 3.11.7\n"
     ]
    }
   ],
   "source": [
    "# Didn't work with conda environment or python version 12\n",
    "!python --version"
   ]
  },
  {
   "cell_type": "code",
   "execution_count": 50,
   "id": "fcdd9d4a-ddbd-4d5e-b661-721d004d4166",
   "metadata": {},
   "outputs": [],
   "source": [
    "!pip install --q unstructured[all-docs] langchain langchain-community\n",
    "# Chromadb is a vector database, alternatives could be used\n",
    "!pip install --q chromadb\n",
    "!pip install --q langchain-text-splitters"
   ]
  },
  {
   "cell_type": "code",
   "execution_count": 1,
   "id": "da25b46f-aec4-4ab7-9e4c-8236f1a2712d",
   "metadata": {},
   "outputs": [],
   "source": [
    "import os\n",
    "from langchain_community.document_loaders import UnstructuredPDFLoader\n",
    "from langchain_community.embeddings import OllamaEmbeddings\n",
    "from langchain_text_splitters import RecursiveCharacterTextSplitter\n",
    "from langchain_community.vectorstores import Chroma\n",
    "from langchain.prompts import ChatPromptTemplate, PromptTemplate\n",
    "from langchain_core.output_parsers import StrOutputParser\n",
    "from langchain_community.chat_models import ChatOllama\n",
    "from langchain_core.runnables import RunnablePassthrough\n",
    "from langchain.retrievers.multi_query import MultiQueryRetriever\n",
    "from tqdm import tqdm"
   ]
  },
  {
   "cell_type": "markdown",
   "id": "e854ded1-210d-4350-86dd-2c9d5555642a",
   "metadata": {},
   "source": [
    "# Single PDF"
   ]
  },
  {
   "cell_type": "code",
   "execution_count": 36,
   "id": "e45d158f-6738-4cc7-b97c-12a9abd9b238",
   "metadata": {},
   "outputs": [],
   "source": [
    "file_path = \"books/J.K. Rowling - HP 1 - Harry Potter and the Sorcerer's Stone.pdf\""
   ]
  },
  {
   "cell_type": "code",
   "execution_count": 8,
   "id": "dea93f7e-3cba-4464-91a6-1cc18d73a521",
   "metadata": {},
   "outputs": [],
   "source": [
    "# This would be used if we were using a singular PDF\n",
    "# loader = UnstructuredPDFLoader(file_path, mode=\"elements\") - Elements is what unstructured creates and state to keep\n",
    "loader = UnstructuredPDFLoader(file_path)\n",
    "all_data = loader.load()"
   ]
  },
  {
   "cell_type": "markdown",
   "id": "d2a0b9bb-fa31-4649-aee2-71d1cbf710eb",
   "metadata": {},
   "source": [
    "# Directory of PDFs"
   ]
  },
  {
   "cell_type": "code",
   "execution_count": 2,
   "id": "fec883f2-d2a1-4ef7-830c-d014c50db190",
   "metadata": {},
   "outputs": [],
   "source": [
    "# Directory containing the Harry Potter books\n",
    "directory = \"books/\"\n",
    "\n",
    "# List to store all documents\n",
    "all_data = []"
   ]
  },
  {
   "cell_type": "code",
   "execution_count": 3,
   "id": "012abda5-8ed6-4ded-a8fa-d7c21c36db01",
   "metadata": {},
   "outputs": [
    {
     "name": "stdout",
     "output_type": "stream",
     "text": [
      "Loading J.K. Rowling - HP 1 - Harry Potter and the Sorcerer's Stone.pdf...\n"
     ]
    },
    {
     "name": "stderr",
     "output_type": "stream",
     "text": [
      "C:\\Users\\b-m-s\\AppData\\Roaming\\jupyterlab-desktop\\envs\\rag\\Lib\\site-packages\\tqdm\\auto.py:21: TqdmWarning: IProgress not found. Please update jupyter and ipywidgets. See https://ipywidgets.readthedocs.io/en/stable/user_install.html\n",
      "  from .autonotebook import tqdm as notebook_tqdm\n"
     ]
    },
    {
     "name": "stdout",
     "output_type": "stream",
     "text": [
      "Loading J.K. Rowling - HP 2 - Harry Potter and the Chamber of Secrets.pdf...\n",
      "Loading J.K. Rowling - HP 3 - Harry Potter and the Prisoner of Azkaban.pdf...\n",
      "Loading J.K. Rowling - HP 4 - Harry Potter and the Goblet of Fire.pdf...\n",
      "Loading J.K. Rowling - HP 5 - Harry Potter and the Order of the Phoenix.pdf...\n",
      "Loading J.K. Rowling - HP 6 - Harry Potter and the Half-Blood Prince.pdf...\n",
      "Loading J.K. Rowling - HP 7 - Harry Potter and the Deathly Hallows.pdf...\n",
      "Loaded 7 documents in total.\n"
     ]
    }
   ],
   "source": [
    "# Load each PDF file in the directory\n",
    "for filename in os.listdir(directory):\n",
    "    if filename.endswith(\".pdf\"):\n",
    "        file_path = os.path.join(directory, filename)\n",
    "        print(f\"Loading {filename}...\")\n",
    "        loader = UnstructuredPDFLoader(file_path)\n",
    "        data = loader.load()\n",
    "        all_data.extend(data)\n",
    "\n",
    "print(f\"Loaded {len(all_data)} documents in total.\")"
   ]
  },
  {
   "cell_type": "markdown",
   "id": "f32ba77f-5550-452a-b57e-2478848c16d6",
   "metadata": {},
   "source": [
    "# Vector Embeddings"
   ]
  },
  {
   "cell_type": "code",
   "execution_count": 6,
   "id": "639238fe-2b4b-4a4c-a0c8-694391edb567",
   "metadata": {},
   "outputs": [
    {
     "name": "stderr",
     "output_type": "stream",
     "text": [
      "\u001b[?25lpulling manifest â ‹ \u001b[?25h\u001b[?25l\u001b[2K\u001b[1Gpulling manifest â ™ \u001b[?25h\u001b[?25l\u001b[2K\u001b[1Gpulling manifest â ¹ \u001b[?25h\u001b[?25l\u001b[2K\u001b[1Gpulling manifest â ¼ \u001b[?25h\u001b[?25l\u001b[2K\u001b[1Gpulling manifest â ´ \u001b[?25h\u001b[?25l\u001b[2K\u001b[1Gpulling manifest â ¦ \u001b[?25h\u001b[?25l\u001b[2K\u001b[1Gpulling manifest \n",
      "pulling 970aa74c0a90... 100% â–•â–ˆâ–ˆâ–ˆâ–ˆâ–ˆâ–ˆâ–ˆâ–ˆâ–ˆâ–ˆâ–ˆâ–ˆâ–ˆâ–ˆâ–ˆâ–ˆâ–� 274 MB                         \n",
      "pulling c71d239df917... 100% â–•â–ˆâ–ˆâ–ˆâ–ˆâ–ˆâ–ˆâ–ˆâ–ˆâ–ˆâ–ˆâ–ˆâ–ˆâ–ˆâ–ˆâ–ˆâ–ˆâ–�  11 KB                         \n",
      "pulling ce4a164fc046... 100% â–•â–ˆâ–ˆâ–ˆâ–ˆâ–ˆâ–ˆâ–ˆâ–ˆâ–ˆâ–ˆâ–ˆâ–ˆâ–ˆâ–ˆâ–ˆâ–ˆâ–�   17 B                         \n",
      "pulling 31df23ea7daa... 100% â–•â–ˆâ–ˆâ–ˆâ–ˆâ–ˆâ–ˆâ–ˆâ–ˆâ–ˆâ–ˆâ–ˆâ–ˆâ–ˆâ–ˆâ–ˆâ–ˆâ–�  420 B                         \n",
      "verifying sha256 digest \n",
      "writing manifest \n",
      "removing any unused layers \n",
      "success \u001b[?25h\n"
     ]
    }
   ],
   "source": [
    "!ollama pull nomic-embed-text"
   ]
  },
  {
   "cell_type": "code",
   "execution_count": 4,
   "id": "fbcc83b3-c7ba-4728-9e1f-44a2b3b8eec6",
   "metadata": {},
   "outputs": [
    {
     "name": "stdout",
     "output_type": "stream",
     "text": [
      "NAME                    \tID          \tSIZE  \tMODIFIED       \n",
      "mxbai-embed-large:latest\t468836162de7\t669 MB\t19 minutes ago\t\n",
      "nomic-embed-text:latest \t0a109f422b47\t274 MB\t2 days ago    \t\n",
      "phi3:latest             \t64c1188f2485\t2.4 GB\t2 weeks ago   \t\n",
      "llama3:latest           \t365c0bd3c000\t4.7 GB\t2 weeks ago   \t\n"
     ]
    }
   ],
   "source": [
    "!ollama list"
   ]
  },
  {
   "cell_type": "code",
   "execution_count": 9,
   "id": "f78e1296-346b-4dce-be47-8677520f5747",
   "metadata": {},
   "outputs": [],
   "source": [
    "# Split and chunk\n",
    "text_splitter = RecursiveCharacterTextSplitter(chunk_size=5000, chunk_overlap=200)\n",
    "chunks = text_splitter.split_documents(all_data)"
   ]
  },
  {
   "cell_type": "code",
   "execution_count": 10,
   "id": "dbd35c0f-213c-4afb-9443-a50ee70f8032",
   "metadata": {},
   "outputs": [
    {
     "name": "stderr",
     "output_type": "stream",
     "text": [
      "\n",
      "OllamaEmbeddings:   0%|          | 0/249 [00:00<?, ?it/s]\u001b[A\n",
      "OllamaEmbeddings:   0%|          | 1/249 [00:02<10:50,  2.62s/it]\u001b[A\n",
      "OllamaEmbeddings:   1%|          | 2/249 [00:05<10:21,  2.51s/it]\u001b[A\n",
      "OllamaEmbeddings:   1%|          | 3/249 [00:07<10:23,  2.54s/it]\u001b[A\n",
      "OllamaEmbeddings:   2%|▏         | 4/249 [00:10<10:14,  2.51s/it]\u001b[A\n",
      "OllamaEmbeddings:   2%|▏         | 5/249 [00:12<10:14,  2.52s/it]\u001b[A\n",
      "OllamaEmbeddings:   2%|▏         | 6/249 [00:15<10:04,  2.49s/it]\u001b[A\n",
      "OllamaEmbeddings:   3%|▎         | 7/249 [00:17<10:07,  2.51s/it]\u001b[A\n",
      "OllamaEmbeddings:   3%|▎         | 8/249 [00:20<09:57,  2.48s/it]\u001b[A\n",
      "OllamaEmbeddings:   4%|▎         | 9/249 [00:22<10:02,  2.51s/it]\u001b[A\n",
      "OllamaEmbeddings:   4%|▍         | 10/249 [00:25<09:57,  2.50s/it]\u001b[A\n",
      "OllamaEmbeddings:   4%|▍         | 11/249 [00:27<09:58,  2.51s/it]\u001b[A\n",
      "OllamaEmbeddings:   5%|▍         | 12/249 [00:30<09:49,  2.49s/it]\u001b[A\n",
      "OllamaEmbeddings:   5%|▌         | 13/249 [00:32<09:52,  2.51s/it]\u001b[A\n",
      "OllamaEmbeddings:   6%|▌         | 14/249 [00:35<09:47,  2.50s/it]\u001b[A\n",
      "OllamaEmbeddings:   6%|▌         | 15/249 [00:37<09:47,  2.51s/it]\u001b[A\n",
      "OllamaEmbeddings:   6%|▋         | 16/249 [00:40<09:38,  2.48s/it]\u001b[A\n",
      "OllamaEmbeddings:   7%|▋         | 17/249 [00:42<09:42,  2.51s/it]\u001b[A\n",
      "OllamaEmbeddings:   7%|▋         | 18/249 [00:45<09:35,  2.49s/it]\u001b[A\n",
      "OllamaEmbeddings:   8%|▊         | 19/249 [00:47<09:37,  2.51s/it]\u001b[A\n",
      "OllamaEmbeddings:   8%|▊         | 20/249 [00:50<09:39,  2.53s/it]\u001b[A\n",
      "OllamaEmbeddings:   8%|▊         | 21/249 [00:52<09:33,  2.52s/it]\u001b[A\n",
      "OllamaEmbeddings:   9%|▉         | 22/249 [00:55<09:32,  2.52s/it]\u001b[A\n",
      "OllamaEmbeddings:   9%|▉         | 23/249 [00:57<09:24,  2.50s/it]\u001b[A\n",
      "OllamaEmbeddings:  10%|▉         | 24/249 [01:00<09:25,  2.51s/it]\u001b[A\n",
      "OllamaEmbeddings:  10%|█         | 25/249 [01:02<09:27,  2.54s/it]\u001b[A\n",
      "OllamaEmbeddings:  10%|█         | 26/249 [01:05<09:21,  2.52s/it]\u001b[A\n",
      "OllamaEmbeddings:  11%|█         | 27/249 [01:07<09:21,  2.53s/it]\u001b[A\n",
      "OllamaEmbeddings:  11%|█         | 28/249 [01:10<09:12,  2.50s/it]\u001b[A\n",
      "OllamaEmbeddings:  12%|█▏        | 29/249 [01:12<09:13,  2.52s/it]\u001b[A\n",
      "OllamaEmbeddings:  12%|█▏        | 30/249 [01:15<09:13,  2.53s/it]\u001b[A\n",
      "OllamaEmbeddings:  12%|█▏        | 31/249 [01:17<09:08,  2.52s/it]\u001b[A\n",
      "OllamaEmbeddings:  13%|█▎        | 32/249 [01:20<09:08,  2.53s/it]\u001b[A\n",
      "OllamaEmbeddings:  13%|█▎        | 33/249 [01:22<08:59,  2.50s/it]\u001b[A\n",
      "OllamaEmbeddings:  14%|█▎        | 34/249 [01:25<09:00,  2.51s/it]\u001b[A\n",
      "OllamaEmbeddings:  14%|█▍        | 35/249 [01:27<08:55,  2.50s/it]\u001b[A\n",
      "OllamaEmbeddings:  14%|█▍        | 36/249 [01:30<08:55,  2.51s/it]\u001b[A\n",
      "OllamaEmbeddings:  15%|█▍        | 37/249 [01:32<08:55,  2.52s/it]\u001b[A\n",
      "OllamaEmbeddings:  15%|█▌        | 38/249 [01:35<08:50,  2.52s/it]\u001b[A\n",
      "OllamaEmbeddings:  16%|█▌        | 39/249 [01:37<08:43,  2.49s/it]\u001b[A\n",
      "OllamaEmbeddings:  16%|█▌        | 40/249 [01:40<08:42,  2.50s/it]\u001b[A\n",
      "OllamaEmbeddings:  16%|█▋        | 41/249 [01:42<08:44,  2.52s/it]\u001b[A\n",
      "OllamaEmbeddings:  17%|█▋        | 42/249 [01:45<08:46,  2.54s/it]\u001b[A\n",
      "OllamaEmbeddings:  17%|█▋        | 43/249 [01:48<08:36,  2.51s/it]\u001b[A\n",
      "OllamaEmbeddings:  18%|█▊        | 44/249 [01:50<08:38,  2.53s/it]\u001b[A\n",
      "OllamaEmbeddings:  18%|█▊        | 45/249 [01:53<08:30,  2.50s/it]\u001b[A\n",
      "OllamaEmbeddings:  18%|█▊        | 46/249 [01:55<08:31,  2.52s/it]\u001b[A\n",
      "OllamaEmbeddings:  19%|█▉        | 47/249 [01:58<08:33,  2.54s/it]\u001b[A\n",
      "OllamaEmbeddings:  19%|█▉        | 48/249 [02:00<08:24,  2.51s/it]\u001b[A\n",
      "OllamaEmbeddings:  20%|█▉        | 49/249 [02:03<08:26,  2.53s/it]\u001b[A\n",
      "OllamaEmbeddings:  20%|██        | 50/249 [02:05<08:26,  2.55s/it]\u001b[A\n",
      "OllamaEmbeddings:  20%|██        | 51/249 [02:08<08:20,  2.53s/it]\u001b[A\n",
      "OllamaEmbeddings:  21%|██        | 52/249 [02:10<08:18,  2.53s/it]\u001b[A\n",
      "OllamaEmbeddings:  21%|██▏       | 53/249 [02:13<08:10,  2.50s/it]\u001b[A\n",
      "OllamaEmbeddings:  22%|██▏       | 54/249 [02:15<08:11,  2.52s/it]\u001b[A\n",
      "OllamaEmbeddings:  22%|██▏       | 55/249 [02:18<08:12,  2.54s/it]\u001b[A\n",
      "OllamaEmbeddings:  22%|██▏       | 56/249 [02:20<08:12,  2.55s/it]\u001b[A\n",
      "OllamaEmbeddings:  23%|██▎       | 57/249 [02:23<08:04,  2.52s/it]\u001b[A\n",
      "OllamaEmbeddings:  23%|██▎       | 58/249 [02:25<08:04,  2.54s/it]\u001b[A\n",
      "OllamaEmbeddings:  24%|██▎       | 59/249 [02:28<08:04,  2.55s/it]\u001b[A\n",
      "OllamaEmbeddings:  24%|██▍       | 60/249 [02:31<08:04,  2.56s/it]\u001b[A\n",
      "OllamaEmbeddings:  24%|██▍       | 61/249 [02:33<07:54,  2.53s/it]\u001b[A\n",
      "OllamaEmbeddings:  25%|██▍       | 62/249 [02:36<07:54,  2.54s/it]\u001b[A\n",
      "OllamaEmbeddings:  25%|██▌       | 63/249 [02:38<07:46,  2.51s/it]\u001b[A\n",
      "OllamaEmbeddings:  26%|██▌       | 64/249 [02:41<07:47,  2.53s/it]\u001b[A\n",
      "OllamaEmbeddings:  26%|██▌       | 65/249 [02:43<07:48,  2.55s/it]\u001b[A\n",
      "OllamaEmbeddings:  27%|██▋       | 66/249 [02:46<07:39,  2.51s/it]\u001b[A\n",
      "OllamaEmbeddings:  27%|██▋       | 67/249 [02:48<07:40,  2.53s/it]\u001b[A\n",
      "OllamaEmbeddings:  27%|██▋       | 68/249 [02:51<07:41,  2.55s/it]\u001b[A\n",
      "OllamaEmbeddings:  28%|██▊       | 69/249 [02:53<07:41,  2.56s/it]\u001b[A\n",
      "OllamaEmbeddings:  28%|██▊       | 70/249 [02:56<07:31,  2.52s/it]\u001b[A\n",
      "OllamaEmbeddings:  29%|██▊       | 71/249 [02:58<07:31,  2.54s/it]\u001b[A\n",
      "OllamaEmbeddings:  29%|██▉       | 72/249 [03:01<07:24,  2.51s/it]\u001b[A\n",
      "OllamaEmbeddings:  29%|██▉       | 73/249 [03:03<07:24,  2.53s/it]\u001b[A\n",
      "OllamaEmbeddings:  30%|██▉       | 74/249 [03:06<07:25,  2.55s/it]\u001b[A\n",
      "OllamaEmbeddings:  30%|███       | 75/249 [03:09<07:18,  2.52s/it]\u001b[A\n",
      "OllamaEmbeddings:  31%|███       | 76/249 [03:11<07:17,  2.53s/it]\u001b[A\n",
      "OllamaEmbeddings:  31%|███       | 77/249 [03:14<07:18,  2.55s/it]\u001b[A\n",
      "OllamaEmbeddings:  31%|███▏      | 78/249 [03:16<07:17,  2.56s/it]\u001b[A\n",
      "OllamaEmbeddings:  32%|███▏      | 79/249 [03:19<07:08,  2.52s/it]\u001b[A\n",
      "OllamaEmbeddings:  32%|███▏      | 80/249 [03:21<07:08,  2.54s/it]\u001b[A\n",
      "OllamaEmbeddings:  33%|███▎      | 81/249 [03:24<07:01,  2.51s/it]\u001b[A\n",
      "OllamaEmbeddings:  33%|███▎      | 82/249 [03:26<07:01,  2.52s/it]\u001b[A\n",
      "OllamaEmbeddings:  33%|███▎      | 83/249 [03:29<07:02,  2.54s/it]\u001b[A\n",
      "OllamaEmbeddings:  34%|███▎      | 84/249 [03:31<06:54,  2.51s/it]\u001b[A\n",
      "OllamaEmbeddings:  34%|███▍      | 85/249 [03:34<06:55,  2.53s/it]\u001b[A\n",
      "OllamaEmbeddings:  35%|███▍      | 86/249 [03:36<06:54,  2.55s/it]\u001b[A\n",
      "OllamaEmbeddings:  35%|███▍      | 87/249 [03:39<06:54,  2.56s/it]\u001b[A\n",
      "OllamaEmbeddings:  35%|███▌      | 88/249 [03:41<06:46,  2.52s/it]\u001b[A\n",
      "OllamaEmbeddings:  36%|███▌      | 89/249 [03:44<06:46,  2.54s/it]\u001b[A\n",
      "OllamaEmbeddings:  36%|███▌      | 90/249 [03:46<06:39,  2.51s/it]\u001b[A\n",
      "OllamaEmbeddings:  37%|███▋      | 91/249 [03:49<06:39,  2.53s/it]\u001b[A\n",
      "OllamaEmbeddings:  37%|███▋      | 92/249 [03:52<06:38,  2.54s/it]\u001b[A\n",
      "OllamaEmbeddings:  37%|███▋      | 93/249 [03:54<06:34,  2.53s/it]\u001b[A\n",
      "OllamaEmbeddings:  38%|███▊      | 94/249 [03:57<06:32,  2.53s/it]\u001b[A\n",
      "OllamaEmbeddings:  38%|███▊      | 95/249 [03:59<06:30,  2.54s/it]\u001b[A\n",
      "OllamaEmbeddings:  39%|███▊      | 96/249 [04:02<06:26,  2.53s/it]\u001b[A\n",
      "OllamaEmbeddings:  39%|███▉      | 97/249 [04:04<06:24,  2.53s/it]\u001b[A\n",
      "OllamaEmbeddings:  39%|███▉      | 98/249 [04:07<06:18,  2.50s/it]\u001b[A\n",
      "OllamaEmbeddings:  40%|███▉      | 99/249 [04:09<06:18,  2.52s/it]\u001b[A\n",
      "OllamaEmbeddings:  40%|████      | 100/249 [04:12<06:16,  2.53s/it]\u001b[A\n",
      "OllamaEmbeddings:  41%|████      | 101/249 [04:14<06:13,  2.52s/it]\u001b[A\n",
      "OllamaEmbeddings:  41%|████      | 102/249 [04:17<06:11,  2.53s/it]\u001b[A\n",
      "OllamaEmbeddings:  41%|████▏     | 103/249 [04:19<06:05,  2.51s/it]\u001b[A\n",
      "OllamaEmbeddings:  42%|████▏     | 104/249 [04:22<06:04,  2.52s/it]\u001b[A\n",
      "OllamaEmbeddings:  42%|████▏     | 105/249 [04:24<06:04,  2.53s/it]\u001b[A\n",
      "OllamaEmbeddings:  43%|████▎     | 106/249 [04:27<06:05,  2.55s/it]\u001b[A\n",
      "OllamaEmbeddings:  43%|████▎     | 107/249 [04:29<05:58,  2.53s/it]\u001b[A\n",
      "OllamaEmbeddings:  43%|████▎     | 108/249 [04:32<05:57,  2.54s/it]\u001b[A\n",
      "OllamaEmbeddings:  44%|████▍     | 109/249 [04:35<05:55,  2.54s/it]\u001b[A\n",
      "OllamaEmbeddings:  44%|████▍     | 110/249 [04:37<05:51,  2.53s/it]\u001b[A\n",
      "OllamaEmbeddings:  45%|████▍     | 111/249 [04:40<05:49,  2.53s/it]\u001b[A\n",
      "OllamaEmbeddings:  45%|████▍     | 112/249 [04:42<05:42,  2.50s/it]\u001b[A\n",
      "OllamaEmbeddings:  45%|████▌     | 113/249 [04:45<05:42,  2.52s/it]\u001b[A\n",
      "OllamaEmbeddings:  46%|████▌     | 114/249 [04:47<05:42,  2.54s/it]\u001b[A\n",
      "OllamaEmbeddings:  46%|████▌     | 115/249 [04:50<05:42,  2.56s/it]\u001b[A\n",
      "OllamaEmbeddings:  47%|████▋     | 116/249 [04:52<05:34,  2.52s/it]\u001b[A\n",
      "OllamaEmbeddings:  47%|████▋     | 117/249 [04:55<05:34,  2.54s/it]\u001b[A\n",
      "OllamaEmbeddings:  47%|████▋     | 118/249 [04:57<05:28,  2.51s/it]\u001b[A\n",
      "OllamaEmbeddings:  48%|████▊     | 119/249 [05:00<05:28,  2.52s/it]\u001b[A\n",
      "OllamaEmbeddings:  48%|████▊     | 120/249 [05:02<05:28,  2.54s/it]\u001b[A\n",
      "OllamaEmbeddings:  49%|████▊     | 121/249 [05:05<05:21,  2.51s/it]\u001b[A\n",
      "OllamaEmbeddings:  49%|████▉     | 122/249 [05:07<05:20,  2.53s/it]\u001b[A\n",
      "OllamaEmbeddings:  49%|████▉     | 123/249 [05:10<05:14,  2.50s/it]\u001b[A\n",
      "OllamaEmbeddings:  50%|████▉     | 124/249 [05:12<05:14,  2.52s/it]\u001b[A\n",
      "OllamaEmbeddings:  50%|█████     | 125/249 [05:15<05:10,  2.51s/it]\u001b[A\n",
      "OllamaEmbeddings:  51%|█████     | 126/249 [05:17<05:09,  2.52s/it]\u001b[A\n",
      "OllamaEmbeddings:  51%|█████     | 127/249 [05:20<05:03,  2.49s/it]\u001b[A\n",
      "OllamaEmbeddings:  51%|█████▏    | 128/249 [05:22<05:03,  2.51s/it]\u001b[A\n",
      "OllamaEmbeddings:  52%|█████▏    | 129/249 [05:25<05:00,  2.50s/it]\u001b[A\n",
      "OllamaEmbeddings:  52%|█████▏    | 130/249 [05:27<04:59,  2.51s/it]\u001b[A\n",
      "OllamaEmbeddings:  53%|█████▎    | 131/249 [05:30<04:58,  2.53s/it]\u001b[A\n",
      "OllamaEmbeddings:  53%|█████▎    | 132/249 [05:32<04:51,  2.49s/it]\u001b[A\n",
      "OllamaEmbeddings:  53%|█████▎    | 133/249 [05:35<04:52,  2.52s/it]\u001b[A\n",
      "OllamaEmbeddings:  54%|█████▍    | 134/249 [05:37<04:46,  2.49s/it]\u001b[A\n",
      "OllamaEmbeddings:  54%|█████▍    | 135/249 [05:40<04:46,  2.52s/it]\u001b[A\n",
      "OllamaEmbeddings:  55%|█████▍    | 136/249 [05:43<04:47,  2.54s/it]\u001b[A\n",
      "OllamaEmbeddings:  55%|█████▌    | 137/249 [05:45<04:40,  2.51s/it]\u001b[A\n",
      "OllamaEmbeddings:  55%|█████▌    | 138/249 [05:48<04:40,  2.53s/it]\u001b[A\n",
      "OllamaEmbeddings:  56%|█████▌    | 139/249 [05:50<04:35,  2.50s/it]\u001b[A\n",
      "OllamaEmbeddings:  56%|█████▌    | 140/249 [05:53<04:35,  2.53s/it]\u001b[A\n",
      "OllamaEmbeddings:  57%|█████▋    | 141/249 [05:55<04:29,  2.50s/it]\u001b[A\n",
      "OllamaEmbeddings:  57%|█████▋    | 142/249 [05:58<04:29,  2.52s/it]\u001b[A\n",
      "OllamaEmbeddings:  57%|█████▋    | 143/249 [06:00<04:25,  2.50s/it]\u001b[A\n",
      "OllamaEmbeddings:  58%|█████▊    | 144/249 [06:03<04:23,  2.51s/it]\u001b[A\n",
      "OllamaEmbeddings:  58%|█████▊    | 145/249 [06:05<04:22,  2.52s/it]\u001b[A\n",
      "OllamaEmbeddings:  59%|█████▊    | 146/249 [06:08<04:19,  2.52s/it]\u001b[A\n",
      "OllamaEmbeddings:  59%|█████▉    | 147/249 [06:10<04:17,  2.53s/it]\u001b[A\n",
      "OllamaEmbeddings:  59%|█████▉    | 148/249 [06:13<04:12,  2.50s/it]\u001b[A\n",
      "OllamaEmbeddings:  60%|█████▉    | 149/249 [06:15<04:11,  2.52s/it]\u001b[A\n",
      "OllamaEmbeddings:  60%|██████    | 150/249 [06:18<04:10,  2.54s/it]\u001b[A\n",
      "OllamaEmbeddings:  61%|██████    | 151/249 [06:20<04:06,  2.52s/it]\u001b[A\n",
      "OllamaEmbeddings:  61%|██████    | 152/249 [06:23<04:05,  2.53s/it]\u001b[A\n",
      "OllamaEmbeddings:  61%|██████▏   | 153/249 [06:25<04:00,  2.50s/it]\u001b[A\n",
      "OllamaEmbeddings:  62%|██████▏   | 154/249 [06:28<03:59,  2.52s/it]\u001b[A\n",
      "OllamaEmbeddings:  62%|██████▏   | 155/249 [06:30<03:58,  2.53s/it]\u001b[A\n",
      "OllamaEmbeddings:  63%|██████▎   | 156/249 [06:33<03:57,  2.55s/it]\u001b[A\n",
      "OllamaEmbeddings:  63%|██████▎   | 157/249 [06:35<03:52,  2.53s/it]\u001b[A\n",
      "OllamaEmbeddings:  63%|██████▎   | 158/249 [06:38<03:50,  2.54s/it]\u001b[A\n",
      "OllamaEmbeddings:  64%|██████▍   | 159/249 [06:41<03:48,  2.54s/it]\u001b[A\n",
      "OllamaEmbeddings:  64%|██████▍   | 160/249 [06:43<03:44,  2.53s/it]\u001b[A\n",
      "OllamaEmbeddings:  65%|██████▍   | 161/249 [06:46<03:43,  2.53s/it]\u001b[A\n",
      "OllamaEmbeddings:  65%|██████▌   | 162/249 [06:48<03:37,  2.50s/it]\u001b[A\n",
      "OllamaEmbeddings:  65%|██████▌   | 163/249 [06:51<03:36,  2.52s/it]\u001b[A\n",
      "OllamaEmbeddings:  66%|██████▌   | 164/249 [06:53<03:32,  2.50s/it]\u001b[A\n",
      "OllamaEmbeddings:  66%|██████▋   | 165/249 [06:56<03:31,  2.52s/it]\u001b[A\n",
      "OllamaEmbeddings:  67%|██████▋   | 166/249 [06:58<03:30,  2.53s/it]\u001b[A\n",
      "OllamaEmbeddings:  67%|██████▋   | 167/249 [07:01<03:25,  2.50s/it]\u001b[A\n",
      "OllamaEmbeddings:  67%|██████▋   | 168/249 [07:03<03:24,  2.53s/it]\u001b[A\n",
      "OllamaEmbeddings:  68%|██████▊   | 169/249 [07:06<03:23,  2.55s/it]\u001b[A\n",
      "OllamaEmbeddings:  68%|██████▊   | 170/249 [07:08<03:19,  2.53s/it]\u001b[A\n",
      "OllamaEmbeddings:  69%|██████▊   | 171/249 [07:11<03:17,  2.53s/it]\u001b[A\n",
      "OllamaEmbeddings:  69%|██████▉   | 172/249 [07:13<03:12,  2.50s/it]\u001b[A\n",
      "OllamaEmbeddings:  69%|██████▉   | 173/249 [07:16<03:11,  2.52s/it]\u001b[A\n",
      "OllamaEmbeddings:  70%|██████▉   | 174/249 [07:18<03:10,  2.54s/it]\u001b[A\n",
      "OllamaEmbeddings:  70%|███████   | 175/249 [07:21<03:06,  2.52s/it]\u001b[A\n",
      "OllamaEmbeddings:  71%|███████   | 176/249 [07:23<03:04,  2.53s/it]\u001b[A\n",
      "OllamaEmbeddings:  71%|███████   | 177/249 [07:26<03:00,  2.51s/it]\u001b[A\n",
      "OllamaEmbeddings:  71%|███████▏  | 178/249 [07:28<02:59,  2.53s/it]\u001b[A\n",
      "OllamaEmbeddings:  72%|███████▏  | 179/249 [07:31<02:57,  2.54s/it]\u001b[A\n",
      "OllamaEmbeddings:  72%|███████▏  | 180/249 [07:34<02:56,  2.55s/it]\u001b[A\n",
      "OllamaEmbeddings:  73%|███████▎  | 181/249 [07:36<02:51,  2.52s/it]\u001b[A\n",
      "OllamaEmbeddings:  73%|███████▎  | 182/249 [07:39<02:49,  2.53s/it]\u001b[A\n",
      "OllamaEmbeddings:  73%|███████▎  | 183/249 [07:41<02:48,  2.55s/it]\u001b[A\n",
      "OllamaEmbeddings:  74%|███████▍  | 184/249 [07:44<02:46,  2.56s/it]\u001b[A\n",
      "OllamaEmbeddings:  74%|███████▍  | 185/249 [07:46<02:41,  2.52s/it]\u001b[A\n",
      "OllamaEmbeddings:  75%|███████▍  | 186/249 [07:49<02:39,  2.54s/it]\u001b[A\n",
      "OllamaEmbeddings:  75%|███████▌  | 187/249 [07:51<02:35,  2.51s/it]\u001b[A\n",
      "OllamaEmbeddings:  76%|███████▌  | 188/249 [07:54<02:34,  2.53s/it]\u001b[A\n",
      "OllamaEmbeddings:  76%|███████▌  | 189/249 [07:56<02:32,  2.54s/it]\u001b[A\n",
      "OllamaEmbeddings:  76%|███████▋  | 190/249 [07:59<02:28,  2.51s/it]\u001b[A\n",
      "OllamaEmbeddings:  77%|███████▋  | 191/249 [08:01<02:26,  2.53s/it]\u001b[A\n",
      "OllamaEmbeddings:  77%|███████▋  | 192/249 [08:04<02:22,  2.50s/it]\u001b[A\n",
      "OllamaEmbeddings:  78%|███████▊  | 193/249 [08:06<02:21,  2.52s/it]\u001b[A\n",
      "OllamaEmbeddings:  78%|███████▊  | 194/249 [08:09<02:19,  2.54s/it]\u001b[A\n",
      "OllamaEmbeddings:  78%|███████▊  | 195/249 [08:11<02:15,  2.50s/it]\u001b[A\n",
      "OllamaEmbeddings:  79%|███████▊  | 196/249 [08:14<02:13,  2.53s/it]\u001b[A\n",
      "OllamaEmbeddings:  79%|███████▉  | 197/249 [08:16<02:09,  2.50s/it]\u001b[A\n",
      "OllamaEmbeddings:  80%|███████▉  | 198/249 [08:19<02:08,  2.52s/it]\u001b[A\n",
      "OllamaEmbeddings:  80%|███████▉  | 199/249 [08:21<02:05,  2.51s/it]\u001b[A\n",
      "OllamaEmbeddings:  80%|████████  | 200/249 [08:24<02:03,  2.52s/it]\u001b[A\n",
      "OllamaEmbeddings:  81%|████████  | 201/249 [08:26<01:59,  2.49s/it]\u001b[A\n",
      "OllamaEmbeddings:  81%|████████  | 202/249 [08:29<01:58,  2.51s/it]\u001b[A\n",
      "OllamaEmbeddings:  82%|████████▏ | 203/249 [08:31<01:55,  2.52s/it]\u001b[A\n",
      "OllamaEmbeddings:  82%|████████▏ | 204/249 [08:34<01:53,  2.52s/it]\u001b[A\n",
      "OllamaEmbeddings:  82%|████████▏ | 205/249 [08:37<01:51,  2.53s/it]\u001b[A\n",
      "OllamaEmbeddings:  83%|████████▎ | 206/249 [08:39<01:47,  2.49s/it]\u001b[A\n",
      "OllamaEmbeddings:  83%|████████▎ | 207/249 [08:42<01:45,  2.52s/it]\u001b[A\n",
      "OllamaEmbeddings:  84%|████████▎ | 208/249 [08:44<01:42,  2.50s/it]\u001b[A\n",
      "OllamaEmbeddings:  84%|████████▍ | 209/249 [08:47<01:40,  2.52s/it]\u001b[A\n",
      "OllamaEmbeddings:  84%|████████▍ | 210/249 [08:49<01:38,  2.53s/it]\u001b[A\n",
      "OllamaEmbeddings:  85%|████████▍ | 211/249 [08:52<01:34,  2.50s/it]\u001b[A\n",
      "OllamaEmbeddings:  85%|████████▌ | 212/249 [08:54<01:33,  2.53s/it]\u001b[A\n",
      "OllamaEmbeddings:  86%|████████▌ | 213/249 [08:57<01:29,  2.50s/it]\u001b[A\n",
      "OllamaEmbeddings:  86%|████████▌ | 214/249 [08:59<01:28,  2.52s/it]\u001b[A\n",
      "OllamaEmbeddings:  86%|████████▋ | 215/249 [09:02<01:26,  2.54s/it]\u001b[A\n",
      "OllamaEmbeddings:  87%|████████▋ | 216/249 [09:04<01:22,  2.51s/it]\u001b[A\n",
      "OllamaEmbeddings:  87%|████████▋ | 217/249 [09:07<01:20,  2.53s/it]\u001b[A\n",
      "OllamaEmbeddings:  88%|████████▊ | 218/249 [09:09<01:18,  2.55s/it]\u001b[A\n",
      "OllamaEmbeddings:  88%|████████▊ | 219/249 [09:12<01:16,  2.56s/it]\u001b[A\n",
      "OllamaEmbeddings:  88%|████████▊ | 220/249 [09:14<01:13,  2.52s/it]\u001b[A\n",
      "OllamaEmbeddings:  89%|████████▉ | 221/249 [09:17<01:10,  2.50s/it]\u001b[A\n",
      "OllamaEmbeddings:  89%|████████▉ | 222/249 [09:19<01:07,  2.52s/it]\u001b[A\n",
      "OllamaEmbeddings:  90%|████████▉ | 223/249 [09:22<01:05,  2.53s/it]\u001b[A\n",
      "OllamaEmbeddings:  90%|████████▉ | 224/249 [09:24<01:02,  2.52s/it]\u001b[A\n",
      "OllamaEmbeddings:  90%|█████████ | 225/249 [09:27<01:00,  2.52s/it]\u001b[A\n",
      "OllamaEmbeddings:  91%|█████████ | 226/249 [09:29<00:57,  2.50s/it]\u001b[A\n",
      "OllamaEmbeddings:  91%|█████████ | 227/249 [09:32<00:55,  2.52s/it]\u001b[A\n",
      "OllamaEmbeddings:  92%|█████████▏| 228/249 [09:34<00:52,  2.50s/it]\u001b[A\n",
      "OllamaEmbeddings:  92%|█████████▏| 229/249 [09:37<00:50,  2.51s/it]\u001b[A\n",
      "OllamaEmbeddings:  92%|█████████▏| 230/249 [09:39<00:47,  2.50s/it]\u001b[A\n",
      "OllamaEmbeddings:  93%|█████████▎| 231/249 [09:42<00:45,  2.51s/it]\u001b[A\n",
      "OllamaEmbeddings:  93%|█████████▎| 232/249 [09:44<00:42,  2.49s/it]\u001b[A\n",
      "OllamaEmbeddings:  94%|█████████▎| 233/249 [09:47<00:40,  2.51s/it]\u001b[A\n",
      "OllamaEmbeddings:  94%|█████████▍| 234/249 [09:50<00:37,  2.53s/it]\u001b[A\n",
      "OllamaEmbeddings:  94%|█████████▍| 235/249 [09:52<00:35,  2.52s/it]\u001b[A\n",
      "OllamaEmbeddings:  95%|█████████▍| 236/249 [09:55<00:32,  2.53s/it]\u001b[A\n",
      "OllamaEmbeddings:  95%|█████████▌| 237/249 [09:57<00:30,  2.50s/it]\u001b[A\n",
      "OllamaEmbeddings:  96%|█████████▌| 238/249 [10:00<00:27,  2.51s/it]\u001b[A\n",
      "OllamaEmbeddings:  96%|█████████▌| 239/249 [10:02<00:25,  2.53s/it]\u001b[A\n",
      "OllamaEmbeddings:  96%|█████████▋| 240/249 [10:05<00:22,  2.55s/it]\u001b[A\n",
      "OllamaEmbeddings:  97%|█████████▋| 241/249 [10:07<00:20,  2.52s/it]\u001b[A\n",
      "OllamaEmbeddings:  97%|█████████▋| 242/249 [10:10<00:17,  2.53s/it]\u001b[A\n",
      "OllamaEmbeddings:  98%|█████████▊| 243/249 [10:12<00:15,  2.55s/it]\u001b[A\n",
      "OllamaEmbeddings:  98%|█████████▊| 244/249 [10:15<00:12,  2.53s/it]\u001b[A\n",
      "OllamaEmbeddings:  98%|█████████▊| 245/249 [10:17<00:10,  2.54s/it]\u001b[A\n",
      "OllamaEmbeddings:  99%|█████████▉| 246/249 [10:20<00:07,  2.50s/it]\u001b[A\n",
      "OllamaEmbeddings:  99%|█████████▉| 247/249 [10:22<00:05,  2.52s/it]\u001b[A\n",
      "OllamaEmbeddings: 100%|█████████▉| 248/249 [10:25<00:02,  2.50s/it]\u001b[A\n",
      "OllamaEmbeddings: 100%|██████████| 249/249 [10:27<00:00,  2.52s/it]\u001b[A\n"
     ]
    }
   ],
   "source": [
    "# Add to vector database\n",
    "vector_db = Chroma.from_documents(\n",
    "    documents=chunks,\n",
    "    embedding=OllamaEmbeddings(model=\"mxbai-embed-large\", show_progress=True),\n",
    "    collection_name=\"harry-potter-rag\"\n",
    ")"
   ]
  },
  {
   "cell_type": "markdown",
   "id": "be729de0-ebaf-4628-8814-429c98c85178",
   "metadata": {},
   "source": [
    "# Retrieval"
   ]
  },
  {
   "cell_type": "code",
   "execution_count": 11,
   "id": "dfef197a-6265-486e-97bc-f75dae1c5871",
   "metadata": {},
   "outputs": [],
   "source": [
    "# LLM from Ollama\n",
    "local_model = \"llama3\"\n",
    "llm = ChatOllama(model=local_model)"
   ]
  },
  {
   "cell_type": "code",
   "execution_count": 12,
   "id": "e4fd5e35-1446-41af-ac9c-26d0ea8c9856",
   "metadata": {},
   "outputs": [],
   "source": [
    "QUERY_PROMPT = PromptTemplate(\n",
    "    input_variables=[\"question\"],\n",
    "    template=\"\"\"You are an AI language model assistant, Your task is to generate five\n",
    "    different versions of the given user question to retrieve relevanta documents from\n",
    "    a vector database. By generating multiple perspectives on the user question, your\n",
    "    goal is to help the user overcom some of the limitations of the distance-based\n",
    "    similarity search. Provide these alternative questions separated by newlines.\n",
    "    Original question: {question}\"\"\",\n",
    ")"
   ]
  },
  {
   "cell_type": "code",
   "execution_count": 13,
   "id": "2795709c-11ab-4507-b62d-b27896b174ac",
   "metadata": {},
   "outputs": [],
   "source": [
    "retriever = MultiQueryRetriever.from_llm(\n",
    "    vector_db.as_retriever(search_kwargs={\"k\": 5}),\n",
    "    llm,\n",
    "    prompt=QUERY_PROMPT\n",
    ")\n",
    "\n",
    "# Enhanced RAG prompt\n",
    "template = \"\"\"Answer the question based on the following context from the Harry Potter book series. \n",
    "If the answer isn't explicitly stated in the context, say so, but try to provide the most relevant information available.\n",
    "If the question is vague, consider multiple interpretations across all the books.\n",
    "\n",
    "Context: {context}\n",
    "\n",
    "Question: {question}\n",
    "\n",
    "Answer:\"\"\"\n",
    "\n",
    "prompt = ChatPromptTemplate.from_template(template)"
   ]
  },
  {
   "cell_type": "code",
   "execution_count": 14,
   "id": "488f466e-559d-4f7b-b62a-f28ea3fa23aa",
   "metadata": {},
   "outputs": [],
   "source": [
    "chain = (\n",
    "    {\"context\": retriever, \"question\": RunnablePassthrough()}\n",
    "    | prompt\n",
    "    | llm\n",
    "    | StrOutputParser()\n",
    ")"
   ]
  },
  {
   "cell_type": "code",
   "execution_count": 16,
   "id": "e51e0217-9d17-4755-876e-26a5d18c7870",
   "metadata": {},
   "outputs": [
    {
     "name": "stdin",
     "output_type": "stream",
     "text": [
      " How does it end?\n"
     ]
    },
    {
     "name": "stderr",
     "output_type": "stream",
     "text": [
      "\n",
      "OllamaEmbeddings:   0%|          | 0/1 [00:00<?, ?it/s]\u001b[A\n",
      "OllamaEmbeddings: 100%|██████████| 1/1 [00:05<00:00,  5.83s/it]\u001b[A\n",
      "\n",
      "OllamaEmbeddings:   0%|          | 0/1 [00:00<?, ?it/s]\u001b[A\n",
      "OllamaEmbeddings: 100%|██████████| 1/1 [00:02<00:00,  2.13s/it]\u001b[A\n",
      "\n",
      "OllamaEmbeddings:   0%|          | 0/1 [00:00<?, ?it/s]\u001b[A\n",
      "OllamaEmbeddings: 100%|██████████| 1/1 [00:02<00:00,  2.15s/it]\u001b[A\n",
      "\n",
      "OllamaEmbeddings:   0%|          | 0/1 [00:00<?, ?it/s]\u001b[A\n",
      "OllamaEmbeddings: 100%|██████████| 1/1 [00:02<00:00,  2.27s/it]\u001b[A\n",
      "\n",
      "OllamaEmbeddings:   0%|          | 0/1 [00:00<?, ?it/s]\u001b[A\n",
      "OllamaEmbeddings: 100%|██████████| 1/1 [00:02<00:00,  2.22s/it]\u001b[A\n",
      "\n",
      "OllamaEmbeddings:   0%|          | 0/1 [00:00<?, ?it/s]\u001b[A\n",
      "OllamaEmbeddings: 100%|██████████| 1/1 [00:02<00:00,  2.28s/it]\u001b[A\n",
      "\n",
      "OllamaEmbeddings:   0%|          | 0/1 [00:00<?, ?it/s]\u001b[A\n",
      "OllamaEmbeddings: 100%|██████████| 1/1 [00:02<00:00,  2.26s/it]\u001b[A\n",
      "\n",
      "OllamaEmbeddings:   0%|          | 0/1 [00:00<?, ?it/s]\u001b[A\n",
      "OllamaEmbeddings: 100%|██████████| 1/1 [00:02<00:00,  2.22s/it]\u001b[A\n",
      "\n",
      "OllamaEmbeddings:   0%|          | 0/1 [00:00<?, ?it/s]\u001b[A\n",
      "OllamaEmbeddings: 100%|██████████| 1/1 [00:02<00:00,  2.36s/it]\u001b[A\n"
     ]
    },
    {
     "data": {
      "text/plain": [
       "\"The story ends with Dumbledore reminiscing about his past obsession with the Deathly Hallows and how he had finally acquired two of them (the Cloak and the Resurrection Stone). He realizes that he was no match for Voldemort, but Harry is the better man. The chapter ends with a sense of closure and reflection on the part of Dumbledore, as he acknowledges his mistakes in the past and finds comfort in Harry's forgiveness.\""
      ]
     },
     "execution_count": 16,
     "metadata": {},
     "output_type": "execute_result"
    }
   ],
   "source": [
    "chain.invoke(input(\"\"))"
   ]
  },
  {
   "cell_type": "code",
   "execution_count": 17,
   "id": "0fbaf9b1-a9ca-4e3d-bbda-56e4cc84fdd6",
   "metadata": {},
   "outputs": [
    {
     "name": "stderr",
     "output_type": "stream",
     "text": [
      "\n",
      "OllamaEmbeddings:   0%|          | 0/1 [00:00<?, ?it/s]\u001b[A\n",
      "OllamaEmbeddings: 100%|██████████| 1/1 [00:05<00:00,  5.40s/it]\u001b[A\n",
      "\n",
      "OllamaEmbeddings:   0%|          | 0/1 [00:00<?, ?it/s]\u001b[A\n",
      "OllamaEmbeddings: 100%|██████████| 1/1 [00:02<00:00,  2.14s/it]\u001b[A\n",
      "\n",
      "OllamaEmbeddings:   0%|          | 0/1 [00:00<?, ?it/s]\u001b[A\n",
      "OllamaEmbeddings: 100%|██████████| 1/1 [00:02<00:00,  2.15s/it]\u001b[A\n",
      "\n",
      "OllamaEmbeddings:   0%|          | 0/1 [00:00<?, ?it/s]\u001b[A\n",
      "OllamaEmbeddings: 100%|██████████| 1/1 [00:02<00:00,  2.27s/it]\u001b[A\n",
      "\n",
      "OllamaEmbeddings:   0%|          | 0/1 [00:00<?, ?it/s]\u001b[A\n",
      "OllamaEmbeddings: 100%|██████████| 1/1 [00:02<00:00,  2.35s/it]\u001b[A\n",
      "\n",
      "OllamaEmbeddings:   0%|          | 0/1 [00:00<?, ?it/s]\u001b[A\n",
      "OllamaEmbeddings: 100%|██████████| 1/1 [00:02<00:00,  2.26s/it]\u001b[A\n",
      "\n",
      "OllamaEmbeddings:   0%|          | 0/1 [00:00<?, ?it/s]\u001b[A\n",
      "OllamaEmbeddings: 100%|██████████| 1/1 [00:02<00:00,  2.33s/it]\u001b[A\n",
      "\n",
      "OllamaEmbeddings:   0%|          | 0/1 [00:00<?, ?it/s]\u001b[A\n",
      "OllamaEmbeddings: 100%|██████████| 1/1 [00:02<00:00,  2.32s/it]\u001b[A\n",
      "\n",
      "OllamaEmbeddings:   0%|          | 0/1 [00:00<?, ?it/s]\u001b[A\n",
      "OllamaEmbeddings: 100%|██████████| 1/1 [00:02<00:00,  2.30s/it]\u001b[A\n",
      "\n",
      "OllamaEmbeddings:   0%|          | 0/1 [00:00<?, ?it/s]\u001b[A\n",
      "OllamaEmbeddings: 100%|██████████| 1/1 [00:02<00:00,  2.28s/it]\u001b[A\n",
      "\n",
      "OllamaEmbeddings:   0%|          | 0/1 [00:00<?, ?it/s]\u001b[A\n",
      "OllamaEmbeddings: 100%|██████████| 1/1 [00:02<00:00,  2.29s/it]\u001b[A\n",
      "\n",
      "OllamaEmbeddings:   0%|          | 0/1 [00:00<?, ?it/s]\u001b[A\n",
      "OllamaEmbeddings: 100%|██████████| 1/1 [00:02<00:00,  2.35s/it]\u001b[A\n",
      "\n",
      "OllamaEmbeddings:   0%|          | 0/1 [00:00<?, ?it/s]\u001b[A\n",
      "OllamaEmbeddings: 100%|██████████| 1/1 [00:02<00:00,  2.37s/it]\u001b[A\n",
      "\n",
      "OllamaEmbeddings:   0%|          | 0/1 [00:00<?, ?it/s]\u001b[A\n",
      "OllamaEmbeddings: 100%|██████████| 1/1 [00:02<00:00,  2.28s/it]\u001b[A\n",
      "\n",
      "OllamaEmbeddings:   0%|          | 0/1 [00:00<?, ?it/s]\u001b[A\n",
      "OllamaEmbeddings: 100%|██████████| 1/1 [00:02<00:00,  2.31s/it]\u001b[A\n",
      "\n",
      "OllamaEmbeddings:   0%|          | 0/1 [00:00<?, ?it/s]\u001b[A\n",
      "OllamaEmbeddings: 100%|██████████| 1/1 [00:02<00:00,  2.29s/it]\u001b[A\n"
     ]
    },
    {
     "data": {
      "text/plain": [
       "'A subjective question!\\n\\nBased on the context from the Harry Potter book series, it seems that Harry is reflecting on his mother\\'s letter and thinking about Dumbledore. While there isn\\'t a direct statement about who is the \"best\" character, we can infer that Harry has strong feelings of joy and grief while reading his mother\\'s letter, which suggests a deep emotional connection to her.\\n\\nAs for Dumbledore, Harry seems to have mixed feelings - he\\'s impressed by Dumbledore\\'s actions, but also acknowledges that some things might seem \"incredible\" about him. This hints at a sense of respect and admiration for the Headmaster, without necessarily implying that he is the \"best\" character.\\n\\nOf course, this is just one possible interpretation!'"
      ]
     },
     "execution_count": 17,
     "metadata": {},
     "output_type": "execute_result"
    }
   ],
   "source": [
    "chain.invoke(\"In your opinion, who is the best character?\")"
   ]
  },
  {
   "cell_type": "code",
   "execution_count": 18,
   "id": "c6c47f95-bbcf-4dcc-afb4-79dee561a4ad",
   "metadata": {},
   "outputs": [
    {
     "name": "stderr",
     "output_type": "stream",
     "text": [
      "\n",
      "OllamaEmbeddings:   0%|          | 0/1 [00:00<?, ?it/s]\u001b[A\n",
      "OllamaEmbeddings: 100%|██████████| 1/1 [00:05<00:00,  5.38s/it]\u001b[A\n",
      "\n",
      "OllamaEmbeddings:   0%|          | 0/1 [00:00<?, ?it/s]\u001b[A\n",
      "OllamaEmbeddings: 100%|██████████| 1/1 [00:02<00:00,  2.16s/it]\u001b[A\n",
      "\n",
      "OllamaEmbeddings:   0%|          | 0/1 [00:00<?, ?it/s]\u001b[A\n",
      "OllamaEmbeddings: 100%|██████████| 1/1 [00:02<00:00,  2.15s/it]\u001b[A\n",
      "\n",
      "OllamaEmbeddings:   0%|          | 0/1 [00:00<?, ?it/s]\u001b[A\n",
      "OllamaEmbeddings: 100%|██████████| 1/1 [00:02<00:00,  2.29s/it]\u001b[A\n",
      "\n",
      "OllamaEmbeddings:   0%|          | 0/1 [00:00<?, ?it/s]\u001b[A\n",
      "OllamaEmbeddings: 100%|██████████| 1/1 [00:02<00:00,  2.28s/it]\u001b[A\n",
      "\n",
      "OllamaEmbeddings:   0%|          | 0/1 [00:00<?, ?it/s]\u001b[A\n",
      "OllamaEmbeddings: 100%|██████████| 1/1 [00:02<00:00,  2.28s/it]\u001b[A\n",
      "\n",
      "OllamaEmbeddings:   0%|          | 0/1 [00:00<?, ?it/s]\u001b[A\n",
      "OllamaEmbeddings: 100%|██████████| 1/1 [00:02<00:00,  2.29s/it]\u001b[A\n",
      "\n",
      "OllamaEmbeddings:   0%|          | 0/1 [00:00<?, ?it/s]\u001b[A\n",
      "OllamaEmbeddings: 100%|██████████| 1/1 [00:02<00:00,  2.25s/it]\u001b[A\n",
      "\n",
      "OllamaEmbeddings:   0%|          | 0/1 [00:00<?, ?it/s]\u001b[A\n",
      "OllamaEmbeddings: 100%|██████████| 1/1 [00:02<00:00,  2.33s/it]\u001b[A\n",
      "\n",
      "OllamaEmbeddings:   0%|          | 0/1 [00:00<?, ?it/s]\u001b[A\n",
      "OllamaEmbeddings: 100%|██████████| 1/1 [00:02<00:00,  2.28s/it]\u001b[A\n",
      "\n",
      "OllamaEmbeddings:   0%|          | 0/1 [00:00<?, ?it/s]\u001b[A\n",
      "OllamaEmbeddings: 100%|██████████| 1/1 [00:02<00:00,  2.31s/it]\u001b[A\n"
     ]
    },
    {
     "data": {
      "text/plain": [
       "'Luke does not die in this passage. In fact, Luke is not mentioned at all in this context from the Harry Potter book series. The story only mentions Hermione, Ron, Fred, Percy, and Harry, but there is no mention of a character named Luke.'"
      ]
     },
     "execution_count": 18,
     "metadata": {},
     "output_type": "execute_result"
    }
   ],
   "source": [
    "chain.invoke(\"At what point does Luke die?\")"
   ]
  },
  {
   "cell_type": "code",
   "execution_count": 5,
   "id": "355d6096-9871-4824-aa5f-41507fcbd9ff",
   "metadata": {},
   "outputs": [
    {
     "ename": "NameError",
     "evalue": "name 'vector_db' is not defined",
     "output_type": "error",
     "traceback": [
      "\u001b[1;31m---------------------------------------------------------------------------\u001b[0m",
      "\u001b[1;31mNameError\u001b[0m                                 Traceback (most recent call last)",
      "Cell \u001b[1;32mIn[5], line 2\u001b[0m\n\u001b[0;32m      1\u001b[0m \u001b[38;5;66;03m## Delete all collections in the db\u001b[39;00m\n\u001b[1;32m----> 2\u001b[0m \u001b[43mvector_db\u001b[49m\u001b[38;5;241m.\u001b[39mdelete_collection()\n",
      "\u001b[1;31mNameError\u001b[0m: name 'vector_db' is not defined"
     ]
    }
   ],
   "source": [
    "## Delete all collections in the db\n",
    "vector_db.delete_collection()"
   ]
  },
  {
   "cell_type": "code",
   "execution_count": null,
   "id": "d5102eef-d890-48f2-83aa-7e66f3b1e4af",
   "metadata": {},
   "outputs": [],
   "source": []
  }
 ],
 "metadata": {
  "kernelspec": {
   "display_name": "Python 3 (ipykernel)",
   "language": "python",
   "name": "python3"
  },
  "language_info": {
   "codemirror_mode": {
    "name": "ipython",
    "version": 3
   },
   "file_extension": ".py",
   "mimetype": "text/x-python",
   "name": "python",
   "nbconvert_exporter": "python",
   "pygments_lexer": "ipython3",
   "version": "3.11.7"
  }
 },
 "nbformat": 4,
 "nbformat_minor": 5
}
