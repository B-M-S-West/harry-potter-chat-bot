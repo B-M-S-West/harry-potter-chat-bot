{
 "cells": [
  {
   "cell_type": "markdown",
   "id": "0152a77b-dfbe-4a0c-b0d7-30d5c2a06aa1",
   "metadata": {},
   "source": [
    "# Ingesting PDF"
   ]
  },
  {
   "cell_type": "code",
   "execution_count": 49,
   "id": "7a22f2a5-7fd4-4873-add6-9c0a2390c28e",
   "metadata": {},
   "outputs": [
    {
     "name": "stdout",
     "output_type": "stream",
     "text": [
      "Python 3.11.7\n"
     ]
    }
   ],
   "source": [
    "# Didn't work with conda environment or python version 12\n",
    "!python --version"
   ]
  },
  {
   "cell_type": "code",
   "execution_count": 50,
   "id": "fcdd9d4a-ddbd-4d5e-b661-721d004d4166",
   "metadata": {},
   "outputs": [],
   "source": [
    "!pip install --q unstructured[all-docs] langchain langchain-community\n",
    "# Chromadb is a vector database, alternatives could be used\n",
    "!pip install --q chromadb\n",
    "!pip install --q langchain-text-splitters"
   ]
  },
  {
   "cell_type": "code",
   "execution_count": 51,
   "id": "da25b46f-aec4-4ab7-9e4c-8236f1a2712d",
   "metadata": {},
   "outputs": [],
   "source": [
    "import os\n",
    "from langchain_community.document_loaders import UnstructuredPDFLoader\n",
    "from langchain_community.embeddings import OllamaEmbeddings\n",
    "from langchain_text_splitters import RecursiveCharacterTextSplitter\n",
    "from langchain_community.vectorstores import Chroma\n",
    "from langchain.prompts import ChatPromptTemplate, PromptTemplate\n",
    "from langchain_core.output_parsers import StrOutputParser\n",
    "from langchain_community.chat_models import ChatOllama\n",
    "from langchain_core.runnables import RunnablePassthrough\n",
    "from langchain.retrievers.multi_query import MultiQueryRetriever\n",
    "from tqdm import tqdm"
   ]
  },
  {
   "cell_type": "markdown",
   "id": "e854ded1-210d-4350-86dd-2c9d5555642a",
   "metadata": {
    "jp-MarkdownHeadingCollapsed": true
   },
   "source": [
    "# Single PDF"
   ]
  },
  {
   "cell_type": "code",
   "execution_count": 36,
   "id": "e45d158f-6738-4cc7-b97c-12a9abd9b238",
   "metadata": {},
   "outputs": [],
   "source": [
    "file_path = \"books/J.K. Rowling - HP 1 - Harry Potter and the Sorcerer's Stone.pdf\""
   ]
  },
  {
   "cell_type": "code",
   "execution_count": null,
   "id": "dea93f7e-3cba-4464-91a6-1cc18d73a521",
   "metadata": {},
   "outputs": [],
   "source": [
    "# This would be used if we were using a singular PDF\n",
    "# loader = UnstructuredPDFLoader(file_path, mode=\"elements\") - Elements is what unstructured creates and state to keep\n",
    "loader = UnstructuredPDFLoader(file_path)\n",
    "data = loader.load()"
   ]
  },
  {
   "cell_type": "markdown",
   "id": "d2a0b9bb-fa31-4649-aee2-71d1cbf710eb",
   "metadata": {},
   "source": [
    "# Directory of PDFs"
   ]
  },
  {
   "cell_type": "code",
   "execution_count": 52,
   "id": "fec883f2-d2a1-4ef7-830c-d014c50db190",
   "metadata": {},
   "outputs": [],
   "source": [
    "# Directory containing the Harry Potter books\n",
    "directory = \"books/\"\n",
    "\n",
    "# List to store all documents\n",
    "all_data = []"
   ]
  },
  {
   "cell_type": "code",
   "execution_count": 53,
   "id": "012abda5-8ed6-4ded-a8fa-d7c21c36db01",
   "metadata": {},
   "outputs": [
    {
     "name": "stdout",
     "output_type": "stream",
     "text": [
      "Loading J.K. Rowling - HP 1 - Harry Potter and the Sorcerer's Stone.pdf...\n",
      "Loading J.K. Rowling - HP 2 - Harry Potter and the Chamber of Secrets.pdf...\n",
      "Loading J.K. Rowling - HP 3 - Harry Potter and the Prisoner of Azkaban.pdf...\n",
      "Loading J.K. Rowling - HP 4 - Harry Potter and the Goblet of Fire.pdf...\n",
      "Loading J.K. Rowling - HP 5 - Harry Potter and the Order of the Phoenix.pdf...\n",
      "Loading J.K. Rowling - HP 6 - Harry Potter and the Half-Blood Prince.pdf...\n",
      "Loading J.K. Rowling - HP 7 - Harry Potter and the Deathly Hallows.pdf...\n",
      "Loaded 7 documents in total.\n"
     ]
    }
   ],
   "source": [
    "# Load each PDF file in the directory\n",
    "for filename in os.listdir(directory):\n",
    "    if filename.endswith(\".pdf\"):\n",
    "        file_path = os.path.join(directory, filename)\n",
    "        print(f\"Loading {filename}...\")\n",
    "        loader = UnstructuredPDFLoader(file_path)\n",
    "        data = loader.load()\n",
    "        all_data.extend(data)\n",
    "\n",
    "print(f\"Loaded {len(all_data)} documents in total.\")"
   ]
  },
  {
   "cell_type": "markdown",
   "id": "f32ba77f-5550-452a-b57e-2478848c16d6",
   "metadata": {},
   "source": [
    "# Vector Embeddings"
   ]
  },
  {
   "cell_type": "code",
   "execution_count": 6,
   "id": "639238fe-2b4b-4a4c-a0c8-694391edb567",
   "metadata": {},
   "outputs": [
    {
     "name": "stderr",
     "output_type": "stream",
     "text": [
      "\u001b[?25lpulling manifest â ‹ \u001b[?25h\u001b[?25l\u001b[2K\u001b[1Gpulling manifest â ™ \u001b[?25h\u001b[?25l\u001b[2K\u001b[1Gpulling manifest â ¹ \u001b[?25h\u001b[?25l\u001b[2K\u001b[1Gpulling manifest â ¼ \u001b[?25h\u001b[?25l\u001b[2K\u001b[1Gpulling manifest â ´ \u001b[?25h\u001b[?25l\u001b[2K\u001b[1Gpulling manifest â ¦ \u001b[?25h\u001b[?25l\u001b[2K\u001b[1Gpulling manifest \n",
      "pulling 970aa74c0a90... 100% â–•â–ˆâ–ˆâ–ˆâ–ˆâ–ˆâ–ˆâ–ˆâ–ˆâ–ˆâ–ˆâ–ˆâ–ˆâ–ˆâ–ˆâ–ˆâ–ˆâ–� 274 MB                         \n",
      "pulling c71d239df917... 100% â–•â–ˆâ–ˆâ–ˆâ–ˆâ–ˆâ–ˆâ–ˆâ–ˆâ–ˆâ–ˆâ–ˆâ–ˆâ–ˆâ–ˆâ–ˆâ–ˆâ–�  11 KB                         \n",
      "pulling ce4a164fc046... 100% â–•â–ˆâ–ˆâ–ˆâ–ˆâ–ˆâ–ˆâ–ˆâ–ˆâ–ˆâ–ˆâ–ˆâ–ˆâ–ˆâ–ˆâ–ˆâ–ˆâ–�   17 B                         \n",
      "pulling 31df23ea7daa... 100% â–•â–ˆâ–ˆâ–ˆâ–ˆâ–ˆâ–ˆâ–ˆâ–ˆâ–ˆâ–ˆâ–ˆâ–ˆâ–ˆâ–ˆâ–ˆâ–ˆâ–�  420 B                         \n",
      "verifying sha256 digest \n",
      "writing manifest \n",
      "removing any unused layers \n",
      "success \u001b[?25h\n"
     ]
    }
   ],
   "source": [
    "!ollama pull nomic-embed-text"
   ]
  },
  {
   "cell_type": "code",
   "execution_count": 7,
   "id": "fbcc83b3-c7ba-4728-9e1f-44a2b3b8eec6",
   "metadata": {},
   "outputs": [
    {
     "name": "stdout",
     "output_type": "stream",
     "text": [
      "NAME                   \tID          \tSIZE  \tMODIFIED     \n",
      "nomic-embed-text:latest\t0a109f422b47\t274 MB\t14 hours ago\t\n",
      "phi3:latest            \t64c1188f2485\t2.4 GB\t11 days ago \t\n",
      "llama3:latest          \t365c0bd3c000\t4.7 GB\t11 days ago \t\n"
     ]
    }
   ],
   "source": [
    "!ollama list"
   ]
  },
  {
   "cell_type": "code",
   "execution_count": 54,
   "id": "f78e1296-346b-4dce-be47-8677520f5747",
   "metadata": {},
   "outputs": [],
   "source": [
    "# Split and chunk\n",
    "text_splitter = RecursiveCharacterTextSplitter(chunk_size=7500, chunk_overlap=200)\n",
    "chunks = text_splitter.split_documents(all_data)"
   ]
  },
  {
   "cell_type": "code",
   "execution_count": 55,
   "id": "dbd35c0f-213c-4afb-9443-a50ee70f8032",
   "metadata": {},
   "outputs": [
    {
     "name": "stderr",
     "output_type": "stream",
     "text": [
      "OllamaEmbeddings: 100%|██████████| 900/900 [49:36<00:00,  3.31s/it]\n"
     ]
    }
   ],
   "source": [
    "# Add to vector database\n",
    "vector_db = Chroma.from_documents(\n",
    "    documents=chunks,\n",
    "    embedding=OllamaEmbeddings(model=\"nomic-embed-text\", show_progress=True),\n",
    "    collection_name=\"harry-potter-rag\"\n",
    ")"
   ]
  },
  {
   "cell_type": "markdown",
   "id": "be729de0-ebaf-4628-8814-429c98c85178",
   "metadata": {},
   "source": [
    "# Retrieval"
   ]
  },
  {
   "cell_type": "code",
   "execution_count": 61,
   "id": "dfef197a-6265-486e-97bc-f75dae1c5871",
   "metadata": {},
   "outputs": [],
   "source": [
    "# LLM from Ollama\n",
    "local_model = \"llama3\"\n",
    "llm = ChatOllama(model=local_model)"
   ]
  },
  {
   "cell_type": "code",
   "execution_count": 62,
   "id": "e4fd5e35-1446-41af-ac9c-26d0ea8c9856",
   "metadata": {},
   "outputs": [],
   "source": [
    "QUERY_PROMPT = PromptTemplate(\n",
    "    input_variables=[\"question\"],\n",
    "    template=\"\"\"You are an AI language model assistant, Your task is to generate five\n",
    "    different versions of the given user question to retrieve relevanta documents from\n",
    "    a vector database. By generating multiple perspectives on the user question, your\n",
    "    goal is to help the user overcom some of the limitations of the distance-based\n",
    "    similarity search. Provide these alternative questions separated by newlines.\n",
    "    Original question: {question}\"\"\",\n",
    ")"
   ]
  },
  {
   "cell_type": "code",
   "execution_count": 63,
   "id": "2795709c-11ab-4507-b62d-b27896b174ac",
   "metadata": {},
   "outputs": [],
   "source": [
    "retriever = MultiQueryRetriever.from_llm(\n",
    "    vector_db.as_retriever(search_kwargs={\"k\": 5}),\n",
    "    llm,\n",
    "    prompt=QUERY_PROMPT\n",
    ")\n",
    "\n",
    "# Enhanced RAG prompt\n",
    "template = \"\"\"Answer the question based on the following context from the Harry Potter book series. \n",
    "If the answer isn't explicitly stated in the context, say so, but try to provide the most relevant information available.\n",
    "If the question is vague, consider multiple interpretations across all the books.\n",
    "\n",
    "Context: {context}\n",
    "\n",
    "Question: {question}\n",
    "\n",
    "Answer:\"\"\"\n",
    "\n",
    "prompt = ChatPromptTemplate.from_template(template)"
   ]
  },
  {
   "cell_type": "code",
   "execution_count": 64,
   "id": "488f466e-559d-4f7b-b62a-f28ea3fa23aa",
   "metadata": {},
   "outputs": [],
   "source": [
    "chain = (\n",
    "    {\"context\": retriever, \"question\": RunnablePassthrough()}\n",
    "    | prompt\n",
    "    | llm\n",
    "    | StrOutputParser()\n",
    ")"
   ]
  },
  {
   "cell_type": "code",
   "execution_count": 68,
   "id": "e51e0217-9d17-4755-876e-26a5d18c7870",
   "metadata": {},
   "outputs": [
    {
     "name": "stdin",
     "output_type": "stream",
     "text": [
      " Does Harry beat Voldemort?\n"
     ]
    },
    {
     "name": "stderr",
     "output_type": "stream",
     "text": [
      "OllamaEmbeddings: 100%|██████████| 1/1 [00:04<00:00,  4.96s/it]\n",
      "OllamaEmbeddings: 100%|██████████| 1/1 [00:02<00:00,  2.10s/it]\n",
      "OllamaEmbeddings: 100%|██████████| 1/1 [00:02<00:00,  2.12s/it]\n",
      "OllamaEmbeddings: 100%|██████████| 1/1 [00:02<00:00,  2.17s/it]\n",
      "OllamaEmbeddings: 100%|██████████| 1/1 [00:02<00:00,  2.20s/it]\n",
      "OllamaEmbeddings: 100%|██████████| 1/1 [00:02<00:00,  2.17s/it]\n",
      "OllamaEmbeddings: 100%|██████████| 1/1 [00:02<00:00,  2.17s/it]\n",
      "OllamaEmbeddings: 100%|██████████| 1/1 [00:02<00:00,  2.18s/it]\n",
      "OllamaEmbeddings: 100%|██████████| 1/1 [00:02<00:00,  2.18s/it]\n",
      "OllamaEmbeddings: 100%|██████████| 1/1 [00:02<00:00,  2.18s/it]\n",
      "OllamaEmbeddings: 100%|██████████| 1/1 [00:02<00:00,  2.18s/it]\n"
     ]
    },
    {
     "data": {
      "text/plain": [
       "'According to the text, yes, Harry beats Voldemort. The exact mechanism of how this happens is described in the passage:\\n\\n\"Your courage won, your wand overpowered his. And in doing so, something happened between those wands, something that echoed the relationship between their masters.\"\\n\\nIt seems that the shared core of the two wands reacted to each other in a way that was unique and powerful, allowing Harry\\'s wand to overpower Voldemort\\'s.'"
      ]
     },
     "execution_count": 68,
     "metadata": {},
     "output_type": "execute_result"
    }
   ],
   "source": [
    "chain.invoke(input(\"\"))"
   ]
  },
  {
   "cell_type": "code",
   "execution_count": 69,
   "id": "0fbaf9b1-a9ca-4e3d-bbda-56e4cc84fdd6",
   "metadata": {},
   "outputs": [
    {
     "name": "stderr",
     "output_type": "stream",
     "text": [
      "OllamaEmbeddings: 100%|██████████| 1/1 [00:06<00:00,  6.73s/it]\n",
      "OllamaEmbeddings: 100%|██████████| 1/1 [00:02<00:00,  2.10s/it]\n",
      "OllamaEmbeddings: 100%|██████████| 1/1 [00:02<00:00,  2.17s/it]\n",
      "OllamaEmbeddings: 100%|██████████| 1/1 [00:02<00:00,  2.17s/it]\n",
      "OllamaEmbeddings: 100%|██████████| 1/1 [00:02<00:00,  2.21s/it]\n",
      "OllamaEmbeddings: 100%|██████████| 1/1 [00:02<00:00,  2.17s/it]\n",
      "OllamaEmbeddings: 100%|██████████| 1/1 [00:02<00:00,  2.19s/it]\n",
      "OllamaEmbeddings: 100%|██████████| 1/1 [00:02<00:00,  2.16s/it]\n",
      "OllamaEmbeddings: 100%|██████████| 1/1 [00:02<00:00,  2.19s/it]\n",
      "OllamaEmbeddings: 100%|██████████| 1/1 [00:02<00:00,  2.16s/it]\n",
      "OllamaEmbeddings: 100%|██████████| 1/1 [00:02<00:00,  2.18s/it]\n"
     ]
    },
    {
     "data": {
      "text/plain": [
       "\"Based on the context from the Harry Potter book series, I think Dumbledore is an excellent character. He is wise, compassionate, and merciful, even in the face of danger. He has a remarkable ability to understand and connect with others, as seen in his conversation with Malfoy. His calm demeanor and sense of humor, even when facing death, are truly admirable.\\n\\nIn this specific scene, Dumbledore shows great mercy towards Malfoy, offering him a chance to change sides and escape the clutches of Voldemort. He also displays remarkable bravery and composure in the face of the Death Eaters' attack, using his wit and charm to try to reason with them. Overall, I believe Dumbledore is one of the most compelling and admirable characters in the series!\""
      ]
     },
     "execution_count": 69,
     "metadata": {},
     "output_type": "execute_result"
    }
   ],
   "source": [
    "chain.invoke(\"In you opinion, who is the best character?\")"
   ]
  },
  {
   "cell_type": "code",
   "execution_count": 70,
   "id": "c6c47f95-bbcf-4dcc-afb4-79dee561a4ad",
   "metadata": {},
   "outputs": [
    {
     "name": "stderr",
     "output_type": "stream",
     "text": [
      "OllamaEmbeddings: 100%|██████████| 1/1 [00:05<00:00,  5.78s/it]\n",
      "OllamaEmbeddings: 100%|██████████| 1/1 [00:02<00:00,  2.07s/it]\n",
      "OllamaEmbeddings: 100%|██████████| 1/1 [00:02<00:00,  2.08s/it]\n",
      "OllamaEmbeddings: 100%|██████████| 1/1 [00:02<00:00,  2.17s/it]\n",
      "OllamaEmbeddings: 100%|██████████| 1/1 [00:02<00:00,  2.16s/it]\n",
      "OllamaEmbeddings: 100%|██████████| 1/1 [00:02<00:00,  2.17s/it]\n",
      "OllamaEmbeddings: 100%|██████████| 1/1 [00:02<00:00,  2.19s/it]\n",
      "OllamaEmbeddings: 100%|██████████| 1/1 [00:02<00:00,  2.18s/it]\n",
      "OllamaEmbeddings: 100%|██████████| 1/1 [00:02<00:00,  2.18s/it]\n",
      "OllamaEmbeddings: 100%|██████████| 1/1 [00:02<00:00,  2.15s/it]\n",
      "OllamaEmbeddings: 100%|██████████| 1/1 [00:02<00:00,  2.19s/it]\n"
     ]
    },
    {
     "data": {
      "text/plain": [
       "'Luke does not appear in this context from the Harry Potter book series. The passage appears to be describing the thoughts and actions of Harry Potter, his parents, Sirius Black, James Potter, Remus Lupin, and Lily Potter as they approach their deaths at the hands of Lord Voldemort. There is no mention of Luke or any other character with that name dying in this context.'"
      ]
     },
     "execution_count": 70,
     "metadata": {},
     "output_type": "execute_result"
    }
   ],
   "source": [
    "chain.invoke(\"At what point does Luke die?\")"
   ]
  },
  {
   "cell_type": "code",
   "execution_count": 48,
   "id": "355d6096-9871-4824-aa5f-41507fcbd9ff",
   "metadata": {},
   "outputs": [],
   "source": [
    "## Delete all collections in the db\n",
    "vector_db.delete_collection()"
   ]
  },
  {
   "cell_type": "code",
   "execution_count": null,
   "id": "d5102eef-d890-48f2-83aa-7e66f3b1e4af",
   "metadata": {},
   "outputs": [],
   "source": []
  }
 ],
 "metadata": {
  "kernelspec": {
   "display_name": "Python 3 (ipykernel)",
   "language": "python",
   "name": "python3"
  },
  "language_info": {
   "codemirror_mode": {
    "name": "ipython",
    "version": 3
   },
   "file_extension": ".py",
   "mimetype": "text/x-python",
   "name": "python",
   "nbconvert_exporter": "python",
   "pygments_lexer": "ipython3",
   "version": "3.11.7"
  }
 },
 "nbformat": 4,
 "nbformat_minor": 5
}
